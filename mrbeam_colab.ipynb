{
  "cells": [
    {
      "cell_type": "markdown",
      "metadata": {
        "id": "view-in-github",
        "colab_type": "text"
      },
      "source": [
        "<a href=\"https://colab.research.google.com/github/mrpiay/mrbeam/blob/main/mrbeam_colab.ipynb\" target=\"_parent\"><img src=\"https://colab.research.google.com/assets/colab-badge.svg\" alt=\"Open In Colab\"/></a>"
      ]
    },
    {
      "cell_type": "markdown",
      "metadata": {
        "id": "aLuvLFDbIWVW"
      },
      "source": [
        "# **Step #1: install mrbeam framework**"
      ]
    },
    {
      "cell_type": "code",
      "source": [
        "! git clone https://github.com/mrpiay/mrbeam.git"
      ],
      "metadata": {
        "id": "YXGGZXw77odE"
      },
      "execution_count": null,
      "outputs": []
    },
    {
      "cell_type": "code",
      "source": [
        "! wget https://github.com/liamedeiros/ehtplot/archive/refs/heads/master.zip\n",
        "! unzip master.zip -d .\n",
        "! wget https://github.com/achael/eht-imaging/archive/refs/tags/v1.2.7.zip\n",
        "! unzip v1.2.7.zip -d .\n",
        "! pip install pygmo\n",
        "! pip install ./ehtplot-master\n",
        "! pip install ./eht-imaging-1.2.7\n",
        "! pip install ./mrbeam/mr_beam/itreg\n",
        "! pip install ./mrbeam/mr_beam/libwise-0.4.7-light\n",
        "! pip install ./mrbeam/mr_beam/MSI\n",
        "! pip install ./mrbeam/mr_beam/imagingbase\n",
        "! pip install ./mrbeam/mr_beam/ga"
      ],
      "metadata": {
        "id": "X1i4MPZK6ejH"
      },
      "execution_count": null,
      "outputs": []
    },
    {
      "cell_type": "markdown",
      "metadata": {
        "id": "WH2aoZsHFbda"
      },
      "source": [
        "# **Step #2: restart session (Runtime -> Restart session (Ctrl+M) )**\n",
        "\n",
        "\n",
        "\n"
      ]
    },
    {
      "cell_type": "markdown",
      "metadata": {
        "id": "c3yk4BK5Ikfv"
      },
      "source": [
        "# **Javier Example**"
      ]
    },
    {
      "cell_type": "code",
      "execution_count": null,
      "metadata": {
        "id": "miD6CQZ5_qar"
      },
      "outputs": [],
      "source": [
        "import pygmo as pg\n",
        "import numpy as np\n",
        "import GA.solver as solver\n",
        "from GA.problems import EHT\n",
        "import sys\n",
        "import ehtim as eh\n",
        "import matplotlib.pyplot as plt"
      ]
    },
    {
      "cell_type": "code",
      "execution_count": 2,
      "metadata": {
        "id": "65sG9I8Z_syi"
      },
      "outputs": [],
      "source": [
        "config_file = './mrbeam/mr_beam/mrpiay/ring_16_first_test.config'\n",
        "outfile = './mrbeam/mr_beam/mrpiay/logger.log'"
      ]
    },
    {
      "cell_type": "code",
      "execution_count": 3,
      "metadata": {
        "id": "8OT-ovswAEyJ"
      },
      "outputs": [],
      "source": [
        "#-------------------------------------------------------------------------------\n",
        "# Fixed imaging parameters. WE WON'T USE THEM FOR NOW\n",
        "#-------------------------------------------------------------------------------\n",
        "ttype     = 'direct'            # Type of Fourier transform ('direct', 'nfft', or 'fast')\n",
        "\n",
        "zbl       = 3                 # Total compact flux density (Jy)\n",
        "npix      = 16                # Number of pixels across the reconstructed image\n",
        "fov       = 160*eh.RADPERUAS    # Field of view of the reconstructed image\n",
        "\n",
        "prior_fwhm = 40.0*eh.RADPERUAS  # Gaussian prior FWHM (radians)\n",
        "sys_noise  = 0.02               # fractional systematic noise\n",
        "                                # added to complex visibilities\n",
        "\n",
        "#data weights\n",
        "data_term = {'amp'    : 1.0,    # visibility amplitudes\n",
        "             'cphase' : 1.0,    # closure phases\n",
        "             'logcamp': 1.0}    # log closure amplitudes\n",
        "\n",
        "stop      = 1e-4                # Imager stopping criterion\n",
        "gain_tol  = [0.02,0.2,0.2]          # Asymmetric gain tolerance for self-cal; we expect larger values\n",
        "                                # for unaccounted sensitivity loss\n",
        "                                # than for unaccounted sensitivity improvement\n",
        "uv_zblcut = 0.1e9               # uv-distance that separates the inter-site \"zero\"-baselines\n",
        "                                # from intra-site baselines\n",
        "zero_baseline = ['ALMA', 'APEX']    # baseline to measure zero-spacing flux\n",
        "#rescaling = 0.04              # rescale intensities per pixel to obtain values of the order ~1\n",
        "\n",
        "cbar_lims = [0, 1.6*10**11]       #cbar-lims for interactive plotting (brightness temperature)"
      ]
    },
    {
      "cell_type": "code",
      "execution_count": 4,
      "metadata": {
        "id": "QlpG1jxnAJgJ"
      },
      "outputs": [],
      "source": [
        "# Way of reading the config_file... if json is done, don't needed\n",
        "\n",
        "# IMPORTANT!: Remember to change the path of img and uvf in your config\n",
        "\n",
        "config = solver.read_config_params(config_file, 'EHT')"
      ]
    },
    {
      "cell_type": "code",
      "execution_count": null,
      "metadata": {
        "id": "9uV47VxWAN15"
      },
      "outputs": [],
      "source": [
        "# Prior definition for the entropy regularizer\n",
        "\n",
        "obs = eh.obsdata.load_uvfits(config['uvf'])\n",
        "true_img = eh.image.load_fits(config['img'])\n",
        "obs_sc = obs.copy()\n",
        "\n",
        "prior = eh.image.make_square(obs_sc, npix, fov) #prior image, make a prior image\n",
        "prior = prior.add_gauss(zbl, (prior_fwhm, prior_fwhm, 0, 0, 0))\n",
        "prior = prior.add_gauss(1e-2*zbl, (100*eh.RADPERUAS, 100*eh.RADPERUAS, 0, 100*eh.RADPERUAS, 100*eh.RADPERUAS))\n"
      ]
    },
    {
      "cell_type": "code",
      "execution_count": 6,
      "metadata": {
        "id": "bRyNk-HZAWgG"
      },
      "outputs": [],
      "source": [
        "# Getting the inputs\n",
        "\n",
        "reg_term = config['reg_term']\n",
        "data_term = config['data_term']\n",
        "rescaling = config['rescaling']\n",
        "zbl = config['zbl']"
      ]
    },
    {
      "cell_type": "code",
      "execution_count": null,
      "metadata": {
        "id": "tLYDFzQtBcpX"
      },
      "outputs": [],
      "source": [
        "# Now, we create the MOP\n",
        "\n",
        "EHTfit = EHT.EHT(obs, prior, data_term, reg_term, rescaling, zbl, npix**2)\n",
        "EHTfit.setFit()\n",
        "\n",
        "udp = pg.problem(EHTfit)"
      ]
    },
    {
      "cell_type": "code",
      "execution_count": 8,
      "metadata": {
        "id": "myef0WNQBinn"
      },
      "outputs": [],
      "source": [
        "# Defining MOEA/D\n",
        "\n",
        "def calculate_pop_size(grid_size):\n",
        "    x = np.arange(grid_size+1)\n",
        "    return int(np.sum(np.sum(np.meshgrid(x, x, x, x, x, x, x, x), axis=0) == grid_size))\n",
        "pop_size = 84 #924 #config['grid_size'] If you have supercomputer, use the config, otherwise use this\n",
        "seed = config['seed_initial']\n",
        "pop = pg.population(udp, size=pop_size, seed=seed)\n",
        "\n",
        "\n",
        "weights = pg.decomposition_weights(n_f=udp.get_nf(), n_w=len(pop), method=config['decomposition_method'], seed=config['decomposition_seed'])\n",
        "\n",
        "gen = config['generations']\n",
        "neighbours = config['neighbours']\n",
        "\n",
        "algo = pg.algorithm(pg.moead(gen=gen, neighbours=neighbours, decomposition=\"weighted\", weight_generation=config[\"decomposition_method\"], seed=config['decomposition_seed']))\n",
        "\n",
        "algo.set_verbosity(1)\n",
        "\n",
        "maxit = 10 #100\n",
        "stop = 1e-4\n",
        "uv_zblcut2 = 0.1*10**9\n",
        "res = obs_sc.res()\n",
        "\n",
        "# This is for chosing a good starting point for the opti problem. Try both options and check difference\n",
        "for i in range(len(pop)):\n",
        "    pop.set_x(i, np.concatenate([obs.dirtyimage(true_img.xdim, true_img.fovx()).imvec/rescaling])) #dirty image as starting point\n",
        "    # pop.set_x(i, np.concatenate([prior.imvec/rescaling])) # Gaussian"
      ]
    },
    {
      "cell_type": "code",
      "execution_count": 9,
      "metadata": {
        "id": "iB6C74jzBqnH"
      },
      "outputs": [],
      "source": [
        "# Et voilà! evolve and getting the sol\n",
        "\n",
        "pop = algo.evolve(pop)\n",
        "\n",
        "fits, vectors = pop.get_f(), pop.get_x()"
      ]
    },
    {
      "cell_type": "code",
      "execution_count": null,
      "metadata": {
        "id": "vfs-r3fBB1FA"
      },
      "outputs": [],
      "source": [
        "# And print some random solutions\n",
        "\n",
        "save = False\n",
        "\n",
        "#randsel = [np.random.random_integers(1, len(vectors)-1) for i in range(100)]\n",
        "randsel = [np.random.random_integers(1, len(vectors)-1) for i in range(1)]\n",
        "im=eh.image.load_fits('./mrbeam/mr_beam/mrpiay/ring_16.fits')\n",
        "#im=eh.image.load_fits('synthetic_data/models/ring_16.fits')\n",
        "for i in randsel:\n",
        "   im.imvec = vectors[i]*rescaling\n",
        "   im.display() #for saving im.display(export_pdf='path/name.png/pdf')\n",
        "if save:\n",
        "   import os\n",
        "   os.system('rm %s_vectors*' % outfile)\n",
        "   np.savetxt(outfile+'_fits.npy',fits)\n",
        "   np.savetxt(outfile+'_vectors.npy',vectors)\n",
        "   np.savetxt(outfile+'_weights.npy',weights)"
      ]
    }
  ],
  "metadata": {
    "colab": {
      "provenance": [],
      "include_colab_link": true
    },
    "kernelspec": {
      "display_name": "Python 3",
      "name": "python3"
    },
    "language_info": {
      "name": "python"
    }
  },
  "nbformat": 4,
  "nbformat_minor": 0
}