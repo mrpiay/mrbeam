{
  "cells": [
    {
      "cell_type": "markdown",
      "metadata": {
        "id": "view-in-github",
        "colab_type": "text"
      },
      "source": [
        "<a href=\"https://colab.research.google.com/github/mrpiay/mrbeam/blob/main/mrbeam_colab.ipynb\" target=\"_parent\"><img src=\"https://colab.research.google.com/assets/colab-badge.svg\" alt=\"Open In Colab\"/></a>"
      ]
    },
    {
      "cell_type": "markdown",
      "metadata": {
        "id": "aLuvLFDbIWVW"
      },
      "source": [
        "# **STEP#1: install mrbeam framework**"
      ]
    },
    {
      "cell_type": "code",
      "source": [
        "! git clone https://github.com/mrpiay/mrbeam.git"
      ],
      "metadata": {
        "id": "YXGGZXw77odE"
      },
      "execution_count": null,
      "outputs": []
    },
    {
      "cell_type": "code",
      "source": [
        "! wget https://github.com/liamedeiros/ehtplot/archive/refs/heads/master.zip\n",
        "! unzip master.zip -d .\n",
        "! wget https://github.com/achael/eht-imaging/archive/refs/tags/v1.2.7.zip\n",
        "! unzip v1.2.7.zip -d .\n",
        "! pip install pygmo\n",
        "! pip install ./ehtplot-master\n",
        "! pip install ./eht-imaging-1.2.7\n",
        "! pip install ./mrbeam/mr_beam/itreg\n",
        "! pip install ./mrbeam/mr_beam/libwise-0.4.7-light\n",
        "! pip install ./mrbeam/mr_beam/MSI\n",
        "! pip install ./mrbeam/mr_beam/imagingbase\n",
        "! pip install ./mrbeam/mr_beam/ga"
      ],
      "metadata": {
        "id": "X1i4MPZK6ejH"
      },
      "execution_count": null,
      "outputs": []
    },
    {
      "cell_type": "markdown",
      "metadata": {
        "id": "WH2aoZsHFbda"
      },
      "source": [
        "### **(!) Restart session in Colab: Runtime -> Restart session (Ctrl+M)**\n",
        "\n",
        "\n",
        "\n",
        "\n",
        "\n",
        "\n",
        "\n"
      ]
    },
    {
      "cell_type": "markdown",
      "metadata": {
        "id": "c3yk4BK5Ikfv"
      },
      "source": [
        "# **STEP #2: create a user defined multi-objective problem (MOP)**"
      ]
    },
    {
      "cell_type": "code",
      "execution_count": null,
      "metadata": {
        "id": "miD6CQZ5_qar"
      },
      "outputs": [],
      "source": [
        "import numpy as np\n",
        "import GA.solver as solver\n",
        "from GA.problems import EHT\n",
        "import sys\n",
        "import ehtim as eh\n",
        "import matplotlib.pyplot as plt\n",
        "\n",
        "#mrpiay\n",
        "import json\n",
        "import pprint\n",
        "#mrpiay"
      ]
    },
    {
      "cell_type": "markdown",
      "source": [
        "**Create / read json config file**"
      ],
      "metadata": {
        "id": "01yQzLXSZrmk"
      }
    },
    {
      "cell_type": "code",
      "execution_count": 2,
      "metadata": {
        "id": "65sG9I8Z_syi"
      },
      "outputs": [],
      "source": [
        "# Way of reading the config_file... if json is done, don't needed\n",
        "\n",
        "# IMPORTANT!: Remember to change the path of img and uvf in your config\n",
        "\n",
        "#mrpiay config = solver.read_config_params(config_file, 'EHT')\n",
        "\n",
        "#mrpiay\n",
        "def create_config_json():\n",
        "  print(json.dumps(config, indent = 4))\n",
        "#create_config_json()\n",
        "#mrpiay\n",
        "\n",
        "#mrpiay config_file = './mrbeam/mr_beam/mrpiay/ring_16_first_test.config'\n",
        "outfile = './mrbeam/mr_beam/mrpiay/logger.log'\n",
        "\n",
        "#mrpiay\n",
        "config_file = './mrbeam/mr_beam/mrpiay/ring_16_first_test.config.json'\n",
        "#mrpiay"
      ]
    },
    {
      "cell_type": "code",
      "execution_count": 3,
      "metadata": {
        "id": "8OT-ovswAEyJ"
      },
      "outputs": [],
      "source": [
        "#-------------------------------------------------------------------------------\n",
        "# Fixed imaging parameters. WE WON'T USE THEM FOR NOW\n",
        "#-------------------------------------------------------------------------------\n",
        "ttype     = 'direct'            # Type of Fourier transform ('direct', 'nfft', or 'fast')\n",
        "\n",
        "zbl       = 3                 # Total compact flux density (Jy)\n",
        "npix      = 16                # Number of pixels across the reconstructed image\n",
        "fov       = 160*eh.RADPERUAS    # Field of view of the reconstructed image\n",
        "\n",
        "prior_fwhm = 40.0*eh.RADPERUAS  # Gaussian prior FWHM (radians)\n",
        "sys_noise  = 0.02               # fractional systematic noise\n",
        "                                # added to complex visibilities\n",
        "\n",
        "#data weights\n",
        "data_term = {'amp'    : 1.0,    # visibility amplitudes\n",
        "             'cphase' : 1.0,    # closure phases\n",
        "             'logcamp': 1.0}    # log closure amplitudes\n",
        "\n",
        "stop      = 1e-4                # Imager stopping criterion\n",
        "gain_tol  = [0.02,0.2,0.2]          # Asymmetric gain tolerance for self-cal; we expect larger values\n",
        "                                # for unaccounted sensitivity loss\n",
        "                                # than for unaccounted sensitivity improvement\n",
        "uv_zblcut = 0.1e9               # uv-distance that separates the inter-site \"zero\"-baselines\n",
        "                                # from intra-site baselines\n",
        "zero_baseline = ['ALMA', 'APEX']    # baseline to measure zero-spacing flux\n",
        "#rescaling = 0.04              # rescale intensities per pixel to obtain values of the order ~1\n",
        "\n",
        "cbar_lims = [0, 1.6*10**11]       #cbar-lims for interactive plotting (brightness temperature)"
      ]
    },
    {
      "cell_type": "markdown",
      "source": [
        "**Create obs, prior & true_img**"
      ],
      "metadata": {
        "id": "qTbgsDtjajeD"
      }
    },
    {
      "cell_type": "code",
      "execution_count": null,
      "metadata": {
        "id": "9uV47VxWAN15"
      },
      "outputs": [],
      "source": [
        "# Prior definition for the entropy regularizer\n",
        "\n",
        "#mrpiay obs = eh.obsdata.load_uvfits(config['uvf'])\n",
        "\n",
        "#mrpiay\n",
        "with open(config_file) as f:\n",
        "    config = json.load(f)\n",
        "#mrpiay\n",
        "\n",
        "obs = eh.obsdata.load_uvfits(config['uvf'])\n",
        "true_img = eh.image.load_fits(config['img'])\n",
        "obs_sc = obs.copy()\n",
        "\n",
        "#mrpiay\n",
        "fov = 128*eh.RADPERUAS\n",
        "#mrpiay\n",
        "\n",
        "prior = eh.image.make_square(obs_sc, npix, fov) #prior image, make a prior image\n",
        "prior = prior.add_gauss(zbl, (prior_fwhm, prior_fwhm, 0, 0, 0))\n",
        "prior = prior.add_gauss(1e-2*zbl, (100*eh.RADPERUAS, 100*eh.RADPERUAS, 0, 100*eh.RADPERUAS, 100*eh.RADPERUAS))"
      ]
    },
    {
      "cell_type": "markdown",
      "source": [
        "**Show obs, prior & true_img**"
      ],
      "metadata": {
        "id": "tiy-PtwHXn_t"
      }
    },
    {
      "cell_type": "code",
      "source": [
        "#mrpiay\n",
        "print('\\nconfig:\\n')\n",
        "print(json.dumps(config, indent=4))\n",
        "\n",
        "print('\\nobs:\\n')\n",
        "print(vars(obs))\n",
        "obs.plotall('u', 'v', conj=True)\n",
        "obs.plotall('uvdist', 'amp')\n",
        "\n",
        "print('\\nobs.cleanbeam\\n')\n",
        "cbeam = obs.cleanbeam(npix,fov)\n",
        "cbeam.display()\n",
        "\n",
        "print('\\nobs.dirtybeam\\n')\n",
        "dbeam = obs.dirtybeam(npix, fov)\n",
        "dbeam.display()\n",
        "\n",
        "print('\\nobs.dirtyimage\\n')\n",
        "dim = obs.dirtyimage(npix, fov)\n",
        "dim.display()\n",
        "\n",
        "print('\\nprior:\\n')\n",
        "print(vars(prior))\n",
        "prior.display()\n",
        "\n",
        "print('\\ntrue_img:\\n')\n",
        "print(vars(true_img))\n",
        "true_img.display()\n",
        "\n",
        "out = eh.imager_func(obs, prior, prior, zbl, d1=\"vis\", alpha_d1=50, s1=\"gs\",maxit=100, show_updates=False)\n",
        "out.display()\n",
        "#mrpiay"
      ],
      "metadata": {
        "id": "1ArSVmK-Xg56"
      },
      "execution_count": null,
      "outputs": []
    },
    {
      "cell_type": "markdown",
      "source": [
        "**Create EHT & EHT.fit**\n",
        "\n",
        "mr_beam/ga/GA/problems/EHT.py\n",
        "\n",
        "```\n",
        "self.data_fidelity_term =   data_term['vis'] * self.func_vis \\\n",
        "                          + data_term['amp'] * self.func_amp \\\n",
        "                          + data_term['cphase'] * self.func_cph \\\n",
        "                          + data_term['logcamp'] * self.func_logcamp\n",
        "\n",
        "self.ob1 = self.data_fidelity_term + self.penalty_term\n",
        "self.ob2 = self.data_fidelity_term + self.penalty_term2\n",
        "self.ob3 = self.data_fidelity_term + self.penalty_term3\n",
        "self.ob4 = self.data_fidelity_term + self.penalty_term4\n",
        "self.ob5 = self.data_fidelity_term + self.penalty_term5\n",
        "self.ob6 = self.data_fidelity_term + self.penalty_term6\n",
        "self.ob7 = self.data_fidelity_term\n",
        "\n",
        "```\n",
        "\n",
        "```\n",
        "def fitness(self, x):\n",
        "  if 'fit' not in self.__dict__:\n",
        "      self.fit = self.setFit()\n",
        "      return [self.fit.ob1(x),self.fit.ob2(x),self.fit.ob3(x),self.fit.ob4(x),self.fit.ob5(x), self.fit.ob6(x), self.fit.ob7(x)]\n",
        "\n",
        "```"
      ],
      "metadata": {
        "id": "Yehjw83moLOm"
      }
    },
    {
      "cell_type": "code",
      "execution_count": null,
      "metadata": {
        "id": "bRyNk-HZAWgG"
      },
      "outputs": [],
      "source": [
        "# Getting the inputs\n",
        "\n",
        "reg_term = config['reg_term']\n",
        "data_term = config['data_term']\n",
        "rescaling = config['rescaling']\n",
        "zbl = config['zbl']\n",
        "\n",
        "# Now, we create the MOP\n",
        "\n",
        "EHTfit = EHT.EHT(obs, prior, data_term, reg_term, rescaling, zbl, npix**2)\n",
        "EHTfit.setFit()"
      ]
    },
    {
      "cell_type": "markdown",
      "source": [
        "**Show EHT & EHT.fit**"
      ],
      "metadata": {
        "id": "tiPlKFZobFGa"
      }
    },
    {
      "cell_type": "code",
      "source": [
        "#mrpiay\n",
        "print('\\nEHT:\\n')\n",
        "print(vars(EHTfit))\n",
        "print('\\nEHT.fit:\\n')\n",
        "print(vars(EHTfit.fit))\n",
        "#for i in list(vars(EHTfit.fit).keys()):\n",
        "#  if 'fid' in i:\n",
        "#    pprint(vars(getattr(EHTfit.fit, i)))\n",
        "#mrpiay"
      ],
      "metadata": {
        "id": "fhRfqbXqmsGn",
        "colab": {
          "base_uri": "https://localhost:8080/"
        },
        "outputId": "c8c2ecca-91c0-49eb-e625-17030dd86441"
      },
      "execution_count": 11,
      "outputs": [
        {
          "output_type": "stream",
          "name": "stdout",
          "text": [
            "\n",
            "EHT:\n",
            "\n",
            "{'obs': <ehtim.obsdata.Obsdata object at 0x7cf3ead411e0>, 'prior': <ehtim.image.Image object at 0x7cf427e9abf0>, 'data_term': {'vis': 1.0, 'amp': 0.0, 'cphase': 0.0, 'logcamp': 0.0}, 'reg_term': {'l1w': 1.0, 'simple': 0.1, 'tv': 10.0, 'tv2': 10.0, 'lA': 10.0, 'flux': 10000.0}, 'rescaling': 0.02, 'zbl': 0.6, 'dim': 256, 'mode': 'pareto', 'num_cores': 16, 'fit': <GA.problems.EHT.MyFunc object at 0x7cf3ead43040>}\n",
            "\n",
            "EHT.fit:\n",
            "\n",
            "{'wrapper': <imagingbase.ehtim_wrapper.EhtimWrapper object at 0x7cf3e8620940>, 'func_vis': <imagingbase.ehtim_wrapper.EhtimFunctional object at 0x7cf3e891a5f0>, 'func_cph': <imagingbase.ehtim_wrapper.EmptyFunctional object at 0x7cf427e4bb50>, 'func_logcamp': <imagingbase.ehtim_wrapper.EmptyFunctional object at 0x7cf3ead419c0>, 'func_amp': <imagingbase.ehtim_wrapper.EmptyFunctional object at 0x7cf3ead42b90>, 'data_fidelity_term': <regpy.functionals.Composed object at 0x7cf3e86220b0>, 'wrapper_l1': <imagingbase.ehtim_wrapper.EhtimWrapper object at 0x7cf3e8622110>, 'wrapper_simple': <imagingbase.ehtim_wrapper.EhtimWrapper object at 0x7cf3e8620700>, 'wrapper_tv': <imagingbase.ehtim_wrapper.EhtimWrapper object at 0x7cf3e8623610>, 'wrapper_tvs': <imagingbase.ehtim_wrapper.EhtimWrapper object at 0x7cf3e8623ca0>, 'wrapper_l2': <imagingbase.ehtim_wrapper.EhtimWrapper object at 0x7cf3e8621ea0>, 'wrapper_flux': <imagingbase.ehtim_wrapper.EhtimWrapper object at 0x7cf3e8621fc0>, 'func_l1': <imagingbase.ehtim_wrapper.EhtimFunctional object at 0x7cf3e86223e0>, 'func_simple': <imagingbase.ehtim_wrapper.EhtimFunctional object at 0x7cf3e8623c10>, 'func_tv': <imagingbase.ehtim_wrapper.EhtimFunctional object at 0x7cf3e8622da0>, 'func_tvs': <imagingbase.ehtim_wrapper.EhtimFunctional object at 0x7cf3e8622440>, 'func_l2': <imagingbase.ehtim_wrapper.EhtimFunctional object at 0x7cf3e8622470>, 'func_flux': <imagingbase.ehtim_wrapper.EhtimFunctional object at 0x7cf3e8622ce0>, 'penalty_term': <regpy.functionals.Composed object at 0x7cf3e85fb070>, 'penalty_term2': <regpy.functionals.Composed object at 0x7cf3e85fbd90>, 'penalty_term3': <regpy.functionals.Composed object at 0x7cf3e85fad40>, 'penalty_term4': <regpy.functionals.Composed object at 0x7cf3e8578ac0>, 'penalty_term5': <regpy.functionals.Composed object at 0x7cf3e857ad40>, 'penalty_term6': <regpy.functionals.Composed object at 0x7cf3e857abf0>, 'ob1': <regpy.functionals.LinearCombination object at 0x7cf3e857ab30>, 'ob2': <regpy.functionals.LinearCombination object at 0x7cf3e857aa40>, 'ob3': <regpy.functionals.LinearCombination object at 0x7cf3e857aa10>, 'ob4': <regpy.functionals.LinearCombination object at 0x7cf3e857a980>, 'ob5': <regpy.functionals.LinearCombination object at 0x7cf3e85793f0>, 'ob6': <regpy.functionals.LinearCombination object at 0x7cf3e8579330>, 'ob7': <regpy.functionals.Composed object at 0x7cf3e86220b0>}\n"
          ]
        }
      ]
    },
    {
      "cell_type": "markdown",
      "source": [
        "# **STEP #3: use a multi-objective optimization library**"
      ],
      "metadata": {
        "id": "oLsOmL_xVPdZ"
      }
    },
    {
      "cell_type": "markdown",
      "source": [
        "# **PyGMO**"
      ],
      "metadata": {
        "id": "Ozg5boWyjLGQ"
      }
    },
    {
      "cell_type": "markdown",
      "source": [
        "**Set up & show UDP**"
      ],
      "metadata": {
        "id": "VwsLm1PPlldl"
      }
    },
    {
      "cell_type": "code",
      "source": [
        "import pygmo as pg\n",
        "\n",
        "udp = pg.problem(EHTfit)\n",
        "print('\\nUDP:\\n')\n",
        "print(udp)"
      ],
      "metadata": {
        "id": "lcUXWX99j_UN"
      },
      "execution_count": null,
      "outputs": []
    },
    {
      "cell_type": "markdown",
      "source": [
        "**Choose an algorithm**"
      ],
      "metadata": {
        "id": "8XuiiAP-jXD_"
      }
    },
    {
      "cell_type": "markdown",
      "source": [
        "### **MOEA/D** (multiobjective evolutionary algorithm based on decomposition)"
      ],
      "metadata": {
        "id": "LBojBLjOb4z7"
      }
    },
    {
      "cell_type": "markdown",
      "source": [
        "**Set up**"
      ],
      "metadata": {
        "id": "mx1FQ9f7hfyF"
      }
    },
    {
      "cell_type": "code",
      "execution_count": 14,
      "metadata": {
        "id": "myef0WNQBinn"
      },
      "outputs": [],
      "source": [
        "# Defining MOEA/D\n",
        "\n",
        "def calculate_pop_size(grid_size):\n",
        "    x = np.arange(grid_size+1)\n",
        "    return int(np.sum(np.sum(np.meshgrid(x, x, x, x, x, x, x, x), axis=0) == grid_size))\n",
        "\n",
        "pop_size = 84 #mrpiay 924 #config['grid_size'] If you have supercomputer, use the config, otherwise use this\n",
        "seed = config['seed_initial']\n",
        "pop = pg.population(udp, size=pop_size, seed=seed)\n",
        "\n",
        "weights = pg.decomposition_weights(n_f=udp.get_nf(), n_w=len(pop), method=config['decomposition_method'], seed=config['decomposition_seed'])\n",
        "\n",
        "gen = config['generations']\n",
        "neighbours = config['neighbours']\n",
        "\n",
        "algo = pg.algorithm(pg.moead(gen=gen, neighbours=neighbours, decomposition=\"weighted\", weight_generation=config[\"decomposition_method\"], seed=config['decomposition_seed']))\n",
        "\n",
        "algo.set_verbosity(1)\n",
        "\n",
        "maxit = 10 #100\n",
        "stop = 1e-4\n",
        "uv_zblcut2 = 0.1*10**9\n",
        "res = obs_sc.res()\n",
        "\n",
        "# This is for chosing a good starting point for the opti problem. Try both options and check difference\n",
        "for i in range(len(pop)):\n",
        "    pop.set_x(i, np.concatenate([obs.dirtyimage(true_img.xdim, true_img.fovx()).imvec/rescaling])) #dirty image as starting point\n",
        "    # pop.set_x(i, np.concatenate([prior.imvec/rescaling])) # Gaussian"
      ]
    },
    {
      "cell_type": "markdown",
      "source": [
        "**Run**"
      ],
      "metadata": {
        "id": "XQoeThw4cLxy"
      }
    },
    {
      "cell_type": "code",
      "execution_count": null,
      "metadata": {
        "id": "vfs-r3fBB1FA"
      },
      "outputs": [],
      "source": [
        "# Et voilà! evolve and getting the sol\n",
        "\n",
        "pop = algo.evolve(pop)\n",
        "\n",
        "fits, vectors = pop.get_f(), pop.get_x()\n",
        "\n",
        "# And print some random solutions\n",
        "\n",
        "save = False\n",
        "\n",
        "#mrpiay randsel = [np.random.random_integers(1, len(vectors)-1) for i in range(100)]\n",
        "randsel = [np.random.random_integers(1, len(vectors)-1) for i in range(10)]\n",
        "im=eh.image.load_fits('./mrbeam/mr_beam/mrpiay/ring_16.fits')\n",
        "for i in randsel:\n",
        "   im.imvec = vectors[i]*rescaling\n",
        "   im.display() #for saving im.display(export_pdf='path/name.png/pdf')\n",
        "if save:\n",
        "   import os\n",
        "   os.system('rm %s_vectors*' % outfile)\n",
        "   np.savetxt(outfile+'_fits.npy',fits)\n",
        "   np.savetxt(outfile+'_vectors.npy',vectors)\n",
        "   np.savetxt(outfile+'_weights.npy',weights)"
      ]
    }
  ],
  "metadata": {
    "colab": {
      "provenance": [],
      "include_colab_link": true
    },
    "kernelspec": {
      "display_name": "Python 3",
      "name": "python3"
    },
    "language_info": {
      "name": "python"
    }
  },
  "nbformat": 4,
  "nbformat_minor": 0
}